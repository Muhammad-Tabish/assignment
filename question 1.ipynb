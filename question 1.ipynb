{
 "cells": [
  {
   "cell_type": "code",
   "execution_count": 13,
   "id": "84b51f1e",
   "metadata": {},
   "outputs": [],
   "source": [
    "import fitz\n",
    "import cv2\n",
    "import numpy as np\n",
    "import pandas as pd\n",
    "import openpyxl"
   ]
  },
  {
   "cell_type": "code",
   "execution_count": 14,
   "id": "818198c5",
   "metadata": {},
   "outputs": [
    {
     "name": "stdout",
     "output_type": "stream",
     "text": [
      "Requirement already satisfied: openpyxl in c:\\users\\muhammad tabish\\appdata\\local\\programs\\python\\python39\\lib\\site-packages (3.1.2)\n",
      "Requirement already satisfied: et-xmlfile in c:\\users\\muhammad tabish\\appdata\\local\\programs\\python\\python39\\lib\\site-packages (from openpyxl) (1.1.0)\n",
      "Note: you may need to restart the kernel to use updated packages.\n"
     ]
    },
    {
     "name": "stderr",
     "output_type": "stream",
     "text": [
      "WARNING: You are using pip version 21.3.1; however, version 23.3.1 is available.\n",
      "You should consider upgrading via the 'c:\\users\\muhammad tabish\\appdata\\local\\programs\\python\\python39\\python.exe -m pip install --upgrade pip' command.\n"
     ]
    }
   ],
   "source": [
    "pip install openpyxl"
   ]
  },
  {
   "cell_type": "code",
   "execution_count": 21,
   "id": "6f152f58",
   "metadata": {},
   "outputs": [],
   "source": [
    "pdf_path = r'C:\\Users\\Muhammad Tabish\\Downloads\\keppel-corporation-limited-annual-report-2018.pdf'\n",
    "excel_path = 'output.xlsx'"
   ]
  },
  {
   "cell_type": "code",
   "execution_count": 28,
   "id": "9e0cc7cf",
   "metadata": {},
   "outputs": [],
   "source": [
    "\n",
    "def extract_text(pdf_path, excel_path):\n",
    "    with fitz.open(pdf_path) as doc:\n",
    "        text_blocks = {'block_num':[], 'text':[]}\n",
    "        page = doc.load_page(11)\n",
    "        blocks = page.get_text('blocks')\n",
    "        sorted_blocks = sorted(blocks, key=lambda x: x[5])\n",
    "        for i, block in enumerate(sorted_blocks):\n",
    "          text_blocks['block_num'].append(i)\n",
    "          text_blocks['text'].append(block[4])\n",
    "        data_frame = pd.DataFrame(text_blocks)\n",
    "        data_frame.to_excel(excel_path)"
   ]
  },
  {
   "cell_type": "code",
   "execution_count": 29,
   "id": "c288ff12",
   "metadata": {},
   "outputs": [],
   "source": [
    "extract_text(pdf_path, excel_path)"
   ]
  },
  {
   "cell_type": "code",
   "execution_count": null,
   "id": "0f2aeeb3",
   "metadata": {},
   "outputs": [],
   "source": []
  }
 ],
 "metadata": {
  "kernelspec": {
   "display_name": "Python 3 (ipykernel)",
   "language": "python",
   "name": "python3"
  },
  "language_info": {
   "codemirror_mode": {
    "name": "ipython",
    "version": 3
   },
   "file_extension": ".py",
   "mimetype": "text/x-python",
   "name": "python",
   "nbconvert_exporter": "python",
   "pygments_lexer": "ipython3",
   "version": "3.9.0"
  }
 },
 "nbformat": 4,
 "nbformat_minor": 5
}
